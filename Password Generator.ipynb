{
 "cells": [
  {
   "cell_type": "code",
   "execution_count": 8,
   "id": "a3d806d0",
   "metadata": {},
   "outputs": [
    {
     "name": "stdout",
     "output_type": "stream",
     "text": [
      "YP{(58~cjM?a\n",
      "2Dn`9/KU_zl!\n"
     ]
    }
   ],
   "source": [
    "# necessary imports\n",
    "import secrets\n",
    "import string\n",
    "\n",
    "# define the alphabet\n",
    "letters = string.ascii_letters\n",
    "digits = string.digits\n",
    "special_chars = string.punctuation\n",
    "\n",
    "alphabet = letters + digits + special_chars\n",
    "\n",
    "# fix password length\n",
    "pwd_length = 12\n",
    "\n",
    "# generate a password string\n",
    "pwd = ''\n",
    "for i in range(pwd_length):\n",
    "  pwd += ''.join(secrets.choice(alphabet))\n",
    "\n",
    "print(pwd)\n",
    "\n",
    "# generate password meeting constraints\n",
    "while True:\n",
    "  pwd = ''\n",
    "  for i in range(pwd_length):\n",
    "    pwd += ''.join(secrets.choice(alphabet))\n",
    "\n",
    "  if (any(char in special_chars for char in pwd) and \n",
    "      sum(char in digits for char in pwd)>=2):\n",
    "          break\n",
    "print(pwd)"
   ]
  },
  {
   "cell_type": "code",
   "execution_count": 9,
   "id": "735923d1",
   "metadata": {},
   "outputs": [
    {
     "name": "stdout",
     "output_type": "stream",
     "text": [
      "yis~=<QM\n",
      "1N5gO@D5\n"
     ]
    }
   ],
   "source": [
    "import secrets\n",
    "import string\n",
    "\n",
    "# define the alphabet\n",
    "letters = string.ascii_letters\n",
    "digits = string.digits\n",
    "special_chars = string.punctuation\n",
    "\n",
    "alphabet = letters + digits + special_chars\n",
    "\n",
    "# fix password length\n",
    "pwd_length = 8\n",
    "\n",
    "# generate a password string\n",
    "pwd = ''\n",
    "for i in range(pwd_length):\n",
    "  pwd += ''.join(secrets.choice(alphabet))\n",
    "\n",
    "print(pwd)\n",
    "\n",
    "# generate password meeting constraints\n",
    "while True:\n",
    "  pwd = ''\n",
    "  for i in range(pwd_length):\n",
    "    pwd += ''.join(secrets.choice(alphabet))\n",
    "\n",
    "  if (any(char in special_chars for char in pwd) and \n",
    "      sum(char in digits for char in pwd)>=2):\n",
    "          break\n",
    "print(pwd)"
   ]
  }
 ],
 "metadata": {
  "kernelspec": {
   "display_name": "Python 3 (ipykernel)",
   "language": "python",
   "name": "python3"
  },
  "language_info": {
   "codemirror_mode": {
    "name": "ipython",
    "version": 3
   },
   "file_extension": ".py",
   "mimetype": "text/x-python",
   "name": "python",
   "nbconvert_exporter": "python",
   "pygments_lexer": "ipython3",
   "version": "3.9.12"
  }
 },
 "nbformat": 4,
 "nbformat_minor": 5
}
